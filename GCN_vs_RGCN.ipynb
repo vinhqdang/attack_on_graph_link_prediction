{
  "nbformat": 4,
  "nbformat_minor": 0,
  "metadata": {
    "colab": {
      "provenance": []
    },
    "kernelspec": {
      "name": "python3",
      "display_name": "Python 3"
    },
    "language_info": {
      "name": "python"
    }
  },
  "cells": [
    {
      "cell_type": "markdown",
      "source": [
        "1) Install required libraries"
      ],
      "metadata": {
        "id": "0dUxiZQUcpzL"
      }
    },
    {
      "cell_type": "code",
      "execution_count": null,
      "metadata": {
        "colab": {
          "base_uri": "https://localhost:8080/"
        },
        "id": "5K9STTq5mrJG",
        "outputId": "876a01fa-90a1-403e-a25c-6277f6eb2572"
      },
      "outputs": [
        {
          "output_type": "stream",
          "name": "stdout",
          "text": [
            "Requirement already satisfied: torch in /usr/local/lib/python3.11/dist-packages (2.6.0+cu124)\n",
            "Collecting torch_geometric\n",
            "  Downloading torch_geometric-2.6.1-py3-none-any.whl.metadata (63 kB)\n",
            "\u001b[2K     \u001b[90m━━━━━━━━━━━━━━━━━━━━━━━━━━━━━━━━━━━━━━━\u001b[0m \u001b[32m63.1/63.1 kB\u001b[0m \u001b[31m814.0 kB/s\u001b[0m eta \u001b[36m0:00:00\u001b[0m\n",
            "\u001b[?25hRequirement already satisfied: filelock in /usr/local/lib/python3.11/dist-packages (from torch) (3.18.0)\n",
            "Requirement already satisfied: typing-extensions>=4.10.0 in /usr/local/lib/python3.11/dist-packages (from torch) (4.14.0)\n",
            "Requirement already satisfied: networkx in /usr/local/lib/python3.11/dist-packages (from torch) (3.5)\n",
            "Requirement already satisfied: jinja2 in /usr/local/lib/python3.11/dist-packages (from torch) (3.1.6)\n",
            "Requirement already satisfied: fsspec in /usr/local/lib/python3.11/dist-packages (from torch) (2025.3.2)\n",
            "Collecting nvidia-cuda-nvrtc-cu12==12.4.127 (from torch)\n",
            "  Downloading nvidia_cuda_nvrtc_cu12-12.4.127-py3-none-manylinux2014_x86_64.whl.metadata (1.5 kB)\n",
            "Collecting nvidia-cuda-runtime-cu12==12.4.127 (from torch)\n",
            "  Downloading nvidia_cuda_runtime_cu12-12.4.127-py3-none-manylinux2014_x86_64.whl.metadata (1.5 kB)\n",
            "Collecting nvidia-cuda-cupti-cu12==12.4.127 (from torch)\n",
            "  Downloading nvidia_cuda_cupti_cu12-12.4.127-py3-none-manylinux2014_x86_64.whl.metadata (1.6 kB)\n",
            "Collecting nvidia-cudnn-cu12==9.1.0.70 (from torch)\n",
            "  Downloading nvidia_cudnn_cu12-9.1.0.70-py3-none-manylinux2014_x86_64.whl.metadata (1.6 kB)\n",
            "Collecting nvidia-cublas-cu12==12.4.5.8 (from torch)\n",
            "  Downloading nvidia_cublas_cu12-12.4.5.8-py3-none-manylinux2014_x86_64.whl.metadata (1.5 kB)\n",
            "Collecting nvidia-cufft-cu12==11.2.1.3 (from torch)\n",
            "  Downloading nvidia_cufft_cu12-11.2.1.3-py3-none-manylinux2014_x86_64.whl.metadata (1.5 kB)\n",
            "Collecting nvidia-curand-cu12==10.3.5.147 (from torch)\n",
            "  Downloading nvidia_curand_cu12-10.3.5.147-py3-none-manylinux2014_x86_64.whl.metadata (1.5 kB)\n",
            "Collecting nvidia-cusolver-cu12==11.6.1.9 (from torch)\n",
            "  Downloading nvidia_cusolver_cu12-11.6.1.9-py3-none-manylinux2014_x86_64.whl.metadata (1.6 kB)\n",
            "Collecting nvidia-cusparse-cu12==12.3.1.170 (from torch)\n",
            "  Downloading nvidia_cusparse_cu12-12.3.1.170-py3-none-manylinux2014_x86_64.whl.metadata (1.6 kB)\n",
            "Requirement already satisfied: nvidia-cusparselt-cu12==0.6.2 in /usr/local/lib/python3.11/dist-packages (from torch) (0.6.2)\n",
            "Requirement already satisfied: nvidia-nccl-cu12==2.21.5 in /usr/local/lib/python3.11/dist-packages (from torch) (2.21.5)\n",
            "Requirement already satisfied: nvidia-nvtx-cu12==12.4.127 in /usr/local/lib/python3.11/dist-packages (from torch) (12.4.127)\n",
            "Collecting nvidia-nvjitlink-cu12==12.4.127 (from torch)\n",
            "  Downloading nvidia_nvjitlink_cu12-12.4.127-py3-none-manylinux2014_x86_64.whl.metadata (1.5 kB)\n",
            "Requirement already satisfied: triton==3.2.0 in /usr/local/lib/python3.11/dist-packages (from torch) (3.2.0)\n",
            "Requirement already satisfied: sympy==1.13.1 in /usr/local/lib/python3.11/dist-packages (from torch) (1.13.1)\n",
            "Requirement already satisfied: mpmath<1.4,>=1.1.0 in /usr/local/lib/python3.11/dist-packages (from sympy==1.13.1->torch) (1.3.0)\n",
            "Requirement already satisfied: aiohttp in /usr/local/lib/python3.11/dist-packages (from torch_geometric) (3.11.15)\n",
            "Requirement already satisfied: numpy in /usr/local/lib/python3.11/dist-packages (from torch_geometric) (2.0.2)\n",
            "Requirement already satisfied: psutil>=5.8.0 in /usr/local/lib/python3.11/dist-packages (from torch_geometric) (5.9.5)\n",
            "Requirement already satisfied: pyparsing in /usr/local/lib/python3.11/dist-packages (from torch_geometric) (3.2.3)\n",
            "Requirement already satisfied: requests in /usr/local/lib/python3.11/dist-packages (from torch_geometric) (2.32.3)\n",
            "Requirement already satisfied: tqdm in /usr/local/lib/python3.11/dist-packages (from torch_geometric) (4.67.1)\n",
            "Requirement already satisfied: aiohappyeyeballs>=2.3.0 in /usr/local/lib/python3.11/dist-packages (from aiohttp->torch_geometric) (2.6.1)\n",
            "Requirement already satisfied: aiosignal>=1.1.2 in /usr/local/lib/python3.11/dist-packages (from aiohttp->torch_geometric) (1.3.2)\n",
            "Requirement already satisfied: attrs>=17.3.0 in /usr/local/lib/python3.11/dist-packages (from aiohttp->torch_geometric) (25.3.0)\n",
            "Requirement already satisfied: frozenlist>=1.1.1 in /usr/local/lib/python3.11/dist-packages (from aiohttp->torch_geometric) (1.7.0)\n",
            "Requirement already satisfied: multidict<7.0,>=4.5 in /usr/local/lib/python3.11/dist-packages (from aiohttp->torch_geometric) (6.4.4)\n",
            "Requirement already satisfied: propcache>=0.2.0 in /usr/local/lib/python3.11/dist-packages (from aiohttp->torch_geometric) (0.3.2)\n",
            "Requirement already satisfied: yarl<2.0,>=1.17.0 in /usr/local/lib/python3.11/dist-packages (from aiohttp->torch_geometric) (1.20.1)\n",
            "Requirement already satisfied: MarkupSafe>=2.0 in /usr/local/lib/python3.11/dist-packages (from jinja2->torch) (3.0.2)\n",
            "Requirement already satisfied: charset-normalizer<4,>=2 in /usr/local/lib/python3.11/dist-packages (from requests->torch_geometric) (3.4.2)\n",
            "Requirement already satisfied: idna<4,>=2.5 in /usr/local/lib/python3.11/dist-packages (from requests->torch_geometric) (3.10)\n",
            "Requirement already satisfied: urllib3<3,>=1.21.1 in /usr/local/lib/python3.11/dist-packages (from requests->torch_geometric) (2.4.0)\n",
            "Requirement already satisfied: certifi>=2017.4.17 in /usr/local/lib/python3.11/dist-packages (from requests->torch_geometric) (2025.6.15)\n",
            "Downloading nvidia_cublas_cu12-12.4.5.8-py3-none-manylinux2014_x86_64.whl (363.4 MB)\n",
            "\u001b[2K   \u001b[90m━━━━━━━━━━━━━━━━━━━━━━━━━━━━━━━━━━━━━━━━\u001b[0m \u001b[32m363.4/363.4 MB\u001b[0m \u001b[31m4.6 MB/s\u001b[0m eta \u001b[36m0:00:00\u001b[0m\n",
            "\u001b[?25hDownloading nvidia_cuda_cupti_cu12-12.4.127-py3-none-manylinux2014_x86_64.whl (13.8 MB)\n",
            "\u001b[2K   \u001b[90m━━━━━━━━━━━━━━━━━━━━━━━━━━━━━━━━━━━━━━━━\u001b[0m \u001b[32m13.8/13.8 MB\u001b[0m \u001b[31m59.6 MB/s\u001b[0m eta \u001b[36m0:00:00\u001b[0m\n",
            "\u001b[?25hDownloading nvidia_cuda_nvrtc_cu12-12.4.127-py3-none-manylinux2014_x86_64.whl (24.6 MB)\n",
            "\u001b[2K   \u001b[90m━━━━━━━━━━━━━━━━━━━━━━━━━━━━━━━━━━━━━━━━\u001b[0m \u001b[32m24.6/24.6 MB\u001b[0m \u001b[31m43.8 MB/s\u001b[0m eta \u001b[36m0:00:00\u001b[0m\n",
            "\u001b[?25hDownloading nvidia_cuda_runtime_cu12-12.4.127-py3-none-manylinux2014_x86_64.whl (883 kB)\n",
            "\u001b[2K   \u001b[90m━━━━━━━━━━━━━━━━━━━━━━━━━━━━━━━━━━━━━━━━\u001b[0m \u001b[32m883.7/883.7 kB\u001b[0m \u001b[31m30.0 MB/s\u001b[0m eta \u001b[36m0:00:00\u001b[0m\n",
            "\u001b[?25hDownloading nvidia_cudnn_cu12-9.1.0.70-py3-none-manylinux2014_x86_64.whl (664.8 MB)\n",
            "\u001b[2K   \u001b[90m━━━━━━━━━━━━━━━━━━━━━━━━━━━━━━━━━━━━━━━━\u001b[0m \u001b[32m664.8/664.8 MB\u001b[0m \u001b[31m2.2 MB/s\u001b[0m eta \u001b[36m0:00:00\u001b[0m\n",
            "\u001b[?25hDownloading nvidia_cufft_cu12-11.2.1.3-py3-none-manylinux2014_x86_64.whl (211.5 MB)\n",
            "\u001b[2K   \u001b[90m━━━━━━━━━━━━━━━━━━━━━━━━━━━━━━━━━━━━━━━━\u001b[0m \u001b[32m211.5/211.5 MB\u001b[0m \u001b[31m6.9 MB/s\u001b[0m eta \u001b[36m0:00:00\u001b[0m\n",
            "\u001b[?25hDownloading nvidia_curand_cu12-10.3.5.147-py3-none-manylinux2014_x86_64.whl (56.3 MB)\n",
            "\u001b[2K   \u001b[90m━━━━━━━━━━━━━━━━━━━━━━━━━━━━━━━━━━━━━━━━\u001b[0m \u001b[32m56.3/56.3 MB\u001b[0m \u001b[31m12.0 MB/s\u001b[0m eta \u001b[36m0:00:00\u001b[0m\n",
            "\u001b[?25hDownloading nvidia_cusolver_cu12-11.6.1.9-py3-none-manylinux2014_x86_64.whl (127.9 MB)\n",
            "\u001b[2K   \u001b[90m━━━━━━━━━━━━━━━━━━━━━━━━━━━━━━━━━━━━━━━━\u001b[0m \u001b[32m127.9/127.9 MB\u001b[0m \u001b[31m8.8 MB/s\u001b[0m eta \u001b[36m0:00:00\u001b[0m\n",
            "\u001b[?25hDownloading nvidia_cusparse_cu12-12.3.1.170-py3-none-manylinux2014_x86_64.whl (207.5 MB)\n",
            "\u001b[2K   \u001b[90m━━━━━━━━━━━━━━━━━━━━━━━━━━━━━━━━━━━━━━━━\u001b[0m \u001b[32m207.5/207.5 MB\u001b[0m \u001b[31m4.4 MB/s\u001b[0m eta \u001b[36m0:00:00\u001b[0m\n",
            "\u001b[?25hDownloading nvidia_nvjitlink_cu12-12.4.127-py3-none-manylinux2014_x86_64.whl (21.1 MB)\n",
            "\u001b[2K   \u001b[90m━━━━━━━━━━━━━━━━━━━━━━━━━━━━━━━━━━━━━━━━\u001b[0m \u001b[32m21.1/21.1 MB\u001b[0m \u001b[31m31.3 MB/s\u001b[0m eta \u001b[36m0:00:00\u001b[0m\n",
            "\u001b[?25hDownloading torch_geometric-2.6.1-py3-none-any.whl (1.1 MB)\n",
            "\u001b[2K   \u001b[90m━━━━━━━━━━━━━━━━━━━━━━━━━━━━━━━━━━━━━━━━\u001b[0m \u001b[32m1.1/1.1 MB\u001b[0m \u001b[31m28.7 MB/s\u001b[0m eta \u001b[36m0:00:00\u001b[0m\n",
            "\u001b[?25hInstalling collected packages: nvidia-nvjitlink-cu12, nvidia-curand-cu12, nvidia-cufft-cu12, nvidia-cuda-runtime-cu12, nvidia-cuda-nvrtc-cu12, nvidia-cuda-cupti-cu12, nvidia-cublas-cu12, nvidia-cusparse-cu12, nvidia-cudnn-cu12, torch_geometric, nvidia-cusolver-cu12\n",
            "  Attempting uninstall: nvidia-nvjitlink-cu12\n",
            "    Found existing installation: nvidia-nvjitlink-cu12 12.5.82\n",
            "    Uninstalling nvidia-nvjitlink-cu12-12.5.82:\n",
            "      Successfully uninstalled nvidia-nvjitlink-cu12-12.5.82\n",
            "  Attempting uninstall: nvidia-curand-cu12\n",
            "    Found existing installation: nvidia-curand-cu12 10.3.6.82\n",
            "    Uninstalling nvidia-curand-cu12-10.3.6.82:\n",
            "      Successfully uninstalled nvidia-curand-cu12-10.3.6.82\n",
            "  Attempting uninstall: nvidia-cufft-cu12\n",
            "    Found existing installation: nvidia-cufft-cu12 11.2.3.61\n",
            "    Uninstalling nvidia-cufft-cu12-11.2.3.61:\n",
            "      Successfully uninstalled nvidia-cufft-cu12-11.2.3.61\n",
            "  Attempting uninstall: nvidia-cuda-runtime-cu12\n",
            "    Found existing installation: nvidia-cuda-runtime-cu12 12.5.82\n",
            "    Uninstalling nvidia-cuda-runtime-cu12-12.5.82:\n",
            "      Successfully uninstalled nvidia-cuda-runtime-cu12-12.5.82\n",
            "  Attempting uninstall: nvidia-cuda-nvrtc-cu12\n",
            "    Found existing installation: nvidia-cuda-nvrtc-cu12 12.5.82\n",
            "    Uninstalling nvidia-cuda-nvrtc-cu12-12.5.82:\n",
            "      Successfully uninstalled nvidia-cuda-nvrtc-cu12-12.5.82\n",
            "  Attempting uninstall: nvidia-cuda-cupti-cu12\n",
            "    Found existing installation: nvidia-cuda-cupti-cu12 12.5.82\n",
            "    Uninstalling nvidia-cuda-cupti-cu12-12.5.82:\n",
            "      Successfully uninstalled nvidia-cuda-cupti-cu12-12.5.82\n",
            "  Attempting uninstall: nvidia-cublas-cu12\n",
            "    Found existing installation: nvidia-cublas-cu12 12.5.3.2\n",
            "    Uninstalling nvidia-cublas-cu12-12.5.3.2:\n",
            "      Successfully uninstalled nvidia-cublas-cu12-12.5.3.2\n",
            "  Attempting uninstall: nvidia-cusparse-cu12\n",
            "    Found existing installation: nvidia-cusparse-cu12 12.5.1.3\n",
            "    Uninstalling nvidia-cusparse-cu12-12.5.1.3:\n",
            "      Successfully uninstalled nvidia-cusparse-cu12-12.5.1.3\n",
            "  Attempting uninstall: nvidia-cudnn-cu12\n",
            "    Found existing installation: nvidia-cudnn-cu12 9.3.0.75\n",
            "    Uninstalling nvidia-cudnn-cu12-9.3.0.75:\n",
            "      Successfully uninstalled nvidia-cudnn-cu12-9.3.0.75\n",
            "  Attempting uninstall: nvidia-cusolver-cu12\n",
            "    Found existing installation: nvidia-cusolver-cu12 11.6.3.83\n",
            "    Uninstalling nvidia-cusolver-cu12-11.6.3.83:\n",
            "      Successfully uninstalled nvidia-cusolver-cu12-11.6.3.83\n",
            "Successfully installed nvidia-cublas-cu12-12.4.5.8 nvidia-cuda-cupti-cu12-12.4.127 nvidia-cuda-nvrtc-cu12-12.4.127 nvidia-cuda-runtime-cu12-12.4.127 nvidia-cudnn-cu12-9.1.0.70 nvidia-cufft-cu12-11.2.1.3 nvidia-curand-cu12-10.3.5.147 nvidia-cusolver-cu12-11.6.1.9 nvidia-cusparse-cu12-12.3.1.170 nvidia-nvjitlink-cu12-12.4.127 torch_geometric-2.6.1\n"
          ]
        }
      ],
      "source": [
        "!pip install torch torch_geometric"
      ]
    },
    {
      "cell_type": "markdown",
      "source": [
        "2) Import libraries"
      ],
      "metadata": {
        "id": "5u9HDaQMctjO"
      }
    },
    {
      "cell_type": "code",
      "source": [
        "import torch\n",
        "import torch.nn.functional as F\n",
        "from torch_geometric.datasets import Planetoid\n",
        "from torch_geometric.nn import GCNConv\n",
        "import numpy as np\n",
        "import random\n",
        "import torch.nn as nn"
      ],
      "metadata": {
        "id": "A92Y18cGnHeA"
      },
      "execution_count": null,
      "outputs": []
    },
    {
      "cell_type": "markdown",
      "source": [
        "3) Load the Cora dataset and transfer it to GPU"
      ],
      "metadata": {
        "id": "U-1a28A6cfG-"
      }
    },
    {
      "cell_type": "code",
      "source": [
        "seed = 42\n",
        "torch.manual_seed(seed)\n",
        "np.random.seed(seed)\n",
        "random.seed(seed)\n",
        "\n",
        "# Load Cora dataset\n",
        "dataset = Planetoid(root='/tmp/Cora', name='Cora')\n",
        "device = torch.device('cuda' if torch.cuda.is_available() else 'cpu')\n",
        "data = dataset[0].to(device)"
      ],
      "metadata": {
        "colab": {
          "base_uri": "https://localhost:8080/"
        },
        "id": "Hy3v73l_nK4y",
        "outputId": "83a33dc1-eb6f-4eed-ecdc-a73dd9076b35"
      },
      "execution_count": null,
      "outputs": [
        {
          "output_type": "stream",
          "name": "stderr",
          "text": [
            "Downloading https://github.com/kimiyoung/planetoid/raw/master/data/ind.cora.x\n",
            "Downloading https://github.com/kimiyoung/planetoid/raw/master/data/ind.cora.tx\n",
            "Downloading https://github.com/kimiyoung/planetoid/raw/master/data/ind.cora.allx\n",
            "Downloading https://github.com/kimiyoung/planetoid/raw/master/data/ind.cora.y\n",
            "Downloading https://github.com/kimiyoung/planetoid/raw/master/data/ind.cora.ty\n",
            "Downloading https://github.com/kimiyoung/planetoid/raw/master/data/ind.cora.ally\n",
            "Downloading https://github.com/kimiyoung/planetoid/raw/master/data/ind.cora.graph\n",
            "Downloading https://github.com/kimiyoung/planetoid/raw/master/data/ind.cora.test.index\n",
            "Processing...\n",
            "Done!\n"
          ]
        }
      ]
    },
    {
      "cell_type": "markdown",
      "source": [
        "4) Define GCN Model"
      ],
      "metadata": {
        "id": "UzgwDFuuc_g-"
      }
    },
    {
      "cell_type": "code",
      "source": [
        "class GCN(torch.nn.Module):\n",
        "    def __init__(self):\n",
        "        super(GCN, self).__init__()\n",
        "        self.conv1 = GCNConv(dataset.num_node_features, 16)\n",
        "        self.conv2 = GCNConv(16, dataset.num_classes)\n",
        "\n",
        "    def forward(self, data):\n",
        "        x, edge_index = data.x, data.edge_index\n",
        "        x = F.relu(self.conv1(x, edge_index))\n",
        "        x = self.conv2(x, edge_index)\n",
        "        return x\n"
      ],
      "metadata": {
        "id": "xvZ-4stanNKz"
      },
      "execution_count": null,
      "outputs": []
    },
    {
      "cell_type": "markdown",
      "source": [
        "5) Define RGCN Model"
      ],
      "metadata": {
        "id": "O1lQyHLTdCbH"
      }
    },
    {
      "cell_type": "code",
      "source": [
        "class RGCN(nn.Module):\n",
        "    def __init__(self, in_feats, hidden_feats, out_feats, dropedge_rate=0.5, noise_std=0.4):\n",
        "        super(RGCN, self).__init__()\n",
        "        self.conv1 = GCNConv(in_feats, hidden_feats)\n",
        "        self.conv2 = GCNConv(hidden_feats, out_feats)\n",
        "        self.dropedge_rate = dropedge_rate\n",
        "        self.noise_std = noise_std\n",
        "\n",
        "    def forward(self, data):\n",
        "        x, edge_index = data.x, data.edge_index\n",
        "        edge_index = self.drop_edge(edge_index)\n",
        "\n",
        "        x = self.conv1(x, edge_index)\n",
        "        x = F.relu(x)\n",
        "\n",
        "        if self.training:\n",
        "            noise = torch.randn_like(x) * self.noise_std\n",
        "            x = x + noise\n",
        "\n",
        "        x = self.conv2(x, edge_index)\n",
        "        return x\n",
        "\n",
        "    def drop_edge(self, edge_index):\n",
        "        num_edges = edge_index.size(1)\n",
        "        perm = torch.randperm(num_edges, device=edge_index.device)\n",
        "        num_keep = int(num_edges * (1.0 - self.dropedge_rate))\n",
        "        perm = perm[:num_keep]\n",
        "        return edge_index[:, perm]\n"
      ],
      "metadata": {
        "id": "yYV-tCURNfUY"
      },
      "execution_count": null,
      "outputs": []
    },
    {
      "cell_type": "markdown",
      "source": [
        "6) Training and Evaluation Functions"
      ],
      "metadata": {
        "id": "T2waBeDwdFgx"
      }
    },
    {
      "cell_type": "code",
      "source": [
        "def train(model, data, optimizer):\n",
        "    model.train()\n",
        "    optimizer.zero_grad()\n",
        "    out = model(data)\n",
        "    loss = F.cross_entropy(out[data.train_mask], data.y[data.train_mask])\n",
        "    loss.backward()\n",
        "    optimizer.step()\n",
        "\n",
        "def test(model, data):\n",
        "    model.eval()\n",
        "    logits = model(data)\n",
        "    loss = F.cross_entropy(logits[data.test_mask], data.y[data.test_mask]).item()\n",
        "    pred = logits[data.test_mask].max(1)[1]\n",
        "    acc = pred.eq(data.y[data.test_mask]).sum().item() / data.test_mask.sum().item()\n",
        "    return acc, loss"
      ],
      "metadata": {
        "id": "EFcJ8FQxNj9d"
      },
      "execution_count": null,
      "outputs": []
    },
    {
      "cell_type": "markdown",
      "source": [
        "7) Edge and Feature Flipping Functions"
      ],
      "metadata": {
        "id": "GWMOXFRddQuf"
      }
    },
    {
      "cell_type": "code",
      "source": [
        "def flip_edge(edge_index, u, v):\n",
        "    mask = ~(((edge_index[0] == u) & (edge_index[1] == v)) |\n",
        "             ((edge_index[0] == v) & (edge_index[1] == u)))\n",
        "    if mask.sum() == edge_index.size(1):\n",
        "        new_edges = torch.cat([edge_index, torch.tensor([[u, v], [v, u]], dtype=torch.long, device=edge_index.device)], dim=1)\n",
        "    else:\n",
        "        new_edges = edge_index[:, mask]\n",
        "    return new_edges\n",
        "\n",
        "def flip_feature(features, u, idx):\n",
        "    features[u, idx] = 1 - features[u, idx]\n",
        "    return features\n"
      ],
      "metadata": {
        "id": "SnW10GkiNm1T"
      },
      "execution_count": null,
      "outputs": []
    },
    {
      "cell_type": "markdown",
      "source": [
        "8) Build Nettack Attack"
      ],
      "metadata": {
        "id": "bkUa8JhIdVJ4"
      }
    },
    {
      "cell_type": "code",
      "source": [
        "def run_attack(model, data, num_target_nodes=200, budget=15):\n",
        "    model.eval()\n",
        "    logits = model(data)\n",
        "    conf = F.softmax(logits[data.test_mask], dim=1)\n",
        "    conf_max, pred = conf.max(dim=1)\n",
        "    true = data.y[data.test_mask]\n",
        "    correct_mask = (pred == true)\n",
        "\n",
        "    target_candidates = data.test_mask.nonzero(as_tuple=False).view(-1)[correct_mask]\n",
        "    target_conf = conf_max[correct_mask]\n",
        "\n",
        "    sorted_idx = target_conf.argsort()\n",
        "    target_nodes = target_candidates[sorted_idx[:num_target_nodes]]\n",
        "\n",
        "    successful_attacks = 0\n",
        "    modified_links = 0\n",
        "\n",
        "    x_adv_global = data.x.clone()\n",
        "    edge_adv_global = data.edge_index.clone()\n",
        "\n",
        "    correct_after_target = []\n",
        "\n",
        "    for node in target_nodes:\n",
        "        node = node.item()\n",
        "        x_adv = x_adv_global.clone()\n",
        "        edge_adv = edge_adv_global.clone()\n",
        "\n",
        "        logits = model(data)\n",
        "        pred = logits[node].argmax().item()\n",
        "        true_label = data.y[node].item()\n",
        "        if pred != true_label:\n",
        "            continue\n",
        "\n",
        "        for _ in range(budget):\n",
        "            best_score = -np.inf\n",
        "            best_action = None\n",
        "\n",
        "            possible_neighbors = random.sample(range(data.num_nodes), min(20, data.num_nodes))\n",
        "            possible_features = random.sample(range(data.num_node_features), min(20, data.num_node_features))\n",
        "\n",
        "            for neighbor in possible_neighbors:\n",
        "                if neighbor == node:\n",
        "                    continue\n",
        "                temp_edge = flip_edge(edge_adv, node, neighbor)\n",
        "                temp_data = data.clone()\n",
        "                temp_data.edge_index = temp_edge\n",
        "                temp_data.x = x_adv\n",
        "                temp_logits = model(temp_data)\n",
        "                score = F.cross_entropy(temp_logits[[node]], data.y[[node]]).item()\n",
        "                if score > best_score:\n",
        "                    best_score = score\n",
        "                    best_action = ('edge', neighbor)\n",
        "\n",
        "            for idx in possible_features:\n",
        "                temp_x = x_adv.clone()\n",
        "                temp_x = flip_feature(temp_x, node, idx)\n",
        "                temp_data = data.clone()\n",
        "                temp_data.edge_index = edge_adv\n",
        "                temp_data.x = temp_x\n",
        "                temp_logits = model(temp_data)\n",
        "                score = F.cross_entropy(temp_logits[[node]], data.y[[node]]).item()\n",
        "                if score > best_score:\n",
        "                    best_score = score\n",
        "                    best_action = ('feature', idx)\n",
        "\n",
        "            if best_action[0] == 'edge':\n",
        "                neighbor = best_action[1]\n",
        "                edge_adv = flip_edge(edge_adv, node, neighbor)\n",
        "                modified_links += 1\n",
        "            else:\n",
        "                idx = best_action[1]\n",
        "                x_adv = flip_feature(x_adv, node, idx)\n",
        "\n",
        "            temp_data = data.clone()\n",
        "            temp_data.edge_index = edge_adv\n",
        "            temp_data.x = x_adv\n",
        "            temp_logits = model(temp_data)\n",
        "            pred_after = temp_logits[node].argmax().item()\n",
        "\n",
        "            if pred_after != true_label:\n",
        "                successful_attacks += 1\n",
        "                correct_after_target.append(0)\n",
        "                edge_adv_global = edge_adv\n",
        "                x_adv_global = x_adv\n",
        "                break\n",
        "        else:\n",
        "            correct_after_target.append(1)\n",
        "            edge_adv_global = edge_adv\n",
        "            x_adv_global = x_adv\n",
        "\n",
        "    data.edge_index = edge_adv_global\n",
        "    data.x = x_adv_global\n",
        "\n",
        "    acc_after, loss_after = test(model, data)\n",
        "    ASR = (successful_attacks / len(target_nodes)) * 100\n",
        "    AML = modified_links / len(target_nodes)\n",
        "    acc_target_after = 1 - np.mean(correct_after_target)\n",
        "\n",
        "    return acc_after, loss_after, ASR, AML, acc_target_after\n"
      ],
      "metadata": {
        "id": "So2IdUj_Nnsj"
      },
      "execution_count": null,
      "outputs": []
    },
    {
      "cell_type": "markdown",
      "source": [
        "9) GCN Train and Attack Evaluation"
      ],
      "metadata": {
        "id": "jmr268erdbT1"
      }
    },
    {
      "cell_type": "code",
      "source": [
        "# ======== Run Experiment GCN ========\n",
        "print(\"\\n=== Training GCN ===\")\n",
        "model_gcn = GCN().to(device)\n",
        "optimizer_gcn = torch.optim.Adam(model_gcn.parameters(), lr=0.01, weight_decay=5e-4)\n",
        "for epoch in range(200):\n",
        "    train(model_gcn, data, optimizer_gcn)\n",
        "\n",
        "acc_gcn_before, loss_gcn_before = test(model_gcn, data)\n",
        "print(f\"[GCN] Accuracy BEFORE attack: {acc_gcn_before:.4f}, Loss: {loss_gcn_before:.4f}\")\n",
        "\n",
        "acc_gcn_after, loss_gcn_after, ASR_gcn, AML_gcn, acc_target_gcn_after = run_attack(model_gcn, data.clone())\n",
        "print(\"\\n=== GCN under NETTACK ===\")\n",
        "print(f\"[GCN] Accuracy AFTER  attack: {acc_gcn_after:.4f}, Loss: {loss_gcn_after:.4f}\")\n",
        "print(f\"[GCN] ASR: {ASR_gcn:.2f}%, AML: {AML_gcn:.4f}\")\n",
        "print(f\"[GCN] Target Nodes Accuracy AFTER attack: {acc_target_gcn_after:.4f}\")"
      ],
      "metadata": {
        "colab": {
          "base_uri": "https://localhost:8080/"
        },
        "id": "bju7h-gVNrLd",
        "outputId": "1da104d0-acdb-4a37-e9b7-dc6427b6c94d"
      },
      "execution_count": null,
      "outputs": [
        {
          "output_type": "stream",
          "name": "stdout",
          "text": [
            "\n",
            "=== Training GCN ===\n",
            "[GCN] Accuracy BEFORE attack: 0.8040, Loss: 0.6082\n",
            "\n",
            "=== GCN under NETTACK ===\n",
            "[GCN] Accuracy AFTER  attack: 0.6150, Loss: 0.8244\n",
            "[GCN] ASR: 100.00%, AML: 1.2750\n",
            "[GCN] Target Nodes Accuracy AFTER attack: 1.0000\n"
          ]
        }
      ]
    },
    {
      "cell_type": "markdown",
      "source": [
        "10) RGCN Train and Attack Evaluation"
      ],
      "metadata": {
        "id": "ppoz9HYxdnaj"
      }
    },
    {
      "cell_type": "code",
      "source": [
        "# ======== Run Experiment RGCN ========\n",
        "model_rgcn = RGCN(\n",
        "    dataset.num_node_features,\n",
        "    16,\n",
        "    dataset.num_classes,\n",
        "    dropedge_rate=0.5,\n",
        "    noise_std=0.4\n",
        ").to(device)\n",
        "\n",
        "optimizer_rgcn = torch.optim.Adam(model_rgcn.parameters(), lr=0.01, weight_decay=5e-4)\n",
        "\n",
        "# Train\n",
        "for epoch in range(200):\n",
        "    train(model_rgcn, data, optimizer_rgcn)\n",
        "\n",
        "acc_rgcn_before, loss_rgcn_before = test(model_rgcn, data)\n",
        "print(f\"[RGCN] Accuracy BEFORE attack: {acc_rgcn_before:.4f}, Loss: {loss_rgcn_before:.4f}\")\n",
        "\n",
        "acc_rgcn_after, loss_rgcn_after, ASR_rgcn, AML_rgcn, acc_target_rgcn_after = run_attack(model_rgcn, data.clone())\n",
        "print(\"\\n=== RGCN under NETTACK ===\")\n",
        "print(f\"[RGCN] Accuracy AFTER  attack: {acc_rgcn_after:.4f}, Loss: {loss_rgcn_after:.4f}\")\n",
        "print(f\"[RGCN] ASR: {ASR_rgcn:.2f}%, AML: {AML_rgcn:.4f}\")\n",
        "print(f\"[RGCN] Target Nodes Accuracy AFTER attack: {acc_target_rgcn_after:.4f}\")"
      ],
      "metadata": {
        "colab": {
          "base_uri": "https://localhost:8080/"
        },
        "id": "9wj_2PMXNu5L",
        "outputId": "a9d99fd7-1291-4cd8-cb33-08d7bd1c0966"
      },
      "execution_count": null,
      "outputs": [
        {
          "output_type": "stream",
          "name": "stdout",
          "text": [
            "[RGCN] Accuracy BEFORE attack: 0.7550, Loss: 0.8876\n",
            "\n",
            "=== RGCN under NETTACK ===\n",
            "[RGCN] Accuracy AFTER  attack: 0.6880, Loss: 1.0857\n",
            "[RGCN] ASR: 71.00%, AML: 1.2550\n",
            "[RGCN] Target Nodes Accuracy AFTER attack: 0.9930\n"
          ]
        }
      ]
    }
  ]
}