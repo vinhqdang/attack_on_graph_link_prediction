{
  "nbformat": 4,
  "nbformat_minor": 0,
  "metadata": {
    "colab": {
      "provenance": [],
      "authorship_tag": "ABX9TyPR/YDKOQrkwQlxmBLpYWg4",
      "include_colab_link": true
    },
    "kernelspec": {
      "name": "python3",
      "display_name": "Python 3"
    },
    "language_info": {
      "name": "python"
    }
  },
  "cells": [
    {
      "cell_type": "markdown",
      "metadata": {
        "id": "view-in-github",
        "colab_type": "text"
      },
      "source": [
        "<a href=\"https://colab.research.google.com/github/vinhqdang/attack_on_graph_link_prediction/blob/main/gcn_adv_vs_nettack.ipynb\" target=\"_parent\"><img src=\"https://colab.research.google.com/assets/colab-badge.svg\" alt=\"Open In Colab\"/></a>"
      ]
    },
    {
      "cell_type": "code",
      "execution_count": 1,
      "metadata": {
        "colab": {
          "base_uri": "https://localhost:8080/"
        },
        "id": "N7FfCzZQLs59",
        "outputId": "fc1ca593-6e51-4645-aed7-b25df0e83e2c"
      },
      "outputs": [
        {
          "output_type": "stream",
          "name": "stdout",
          "text": [
            "Requirement already satisfied: torch in /usr/local/lib/python3.11/dist-packages (2.6.0+cu124)\n",
            "Collecting torch_geometric\n",
            "  Downloading torch_geometric-2.6.1-py3-none-any.whl.metadata (63 kB)\n",
            "\u001b[2K     \u001b[90m━━━━━━━━━━━━━━━━━━━━━━━━━━━━━━━━━━━━━━━━\u001b[0m \u001b[32m63.1/63.1 kB\u001b[0m \u001b[31m1.7 MB/s\u001b[0m eta \u001b[36m0:00:00\u001b[0m\n",
            "\u001b[?25hRequirement already satisfied: filelock in /usr/local/lib/python3.11/dist-packages (from torch) (3.18.0)\n",
            "Requirement already satisfied: typing-extensions>=4.10.0 in /usr/local/lib/python3.11/dist-packages (from torch) (4.14.0)\n",
            "Requirement already satisfied: networkx in /usr/local/lib/python3.11/dist-packages (from torch) (3.5)\n",
            "Requirement already satisfied: jinja2 in /usr/local/lib/python3.11/dist-packages (from torch) (3.1.6)\n",
            "Requirement already satisfied: fsspec in /usr/local/lib/python3.11/dist-packages (from torch) (2025.3.2)\n",
            "Collecting nvidia-cuda-nvrtc-cu12==12.4.127 (from torch)\n",
            "  Downloading nvidia_cuda_nvrtc_cu12-12.4.127-py3-none-manylinux2014_x86_64.whl.metadata (1.5 kB)\n",
            "Collecting nvidia-cuda-runtime-cu12==12.4.127 (from torch)\n",
            "  Downloading nvidia_cuda_runtime_cu12-12.4.127-py3-none-manylinux2014_x86_64.whl.metadata (1.5 kB)\n",
            "Collecting nvidia-cuda-cupti-cu12==12.4.127 (from torch)\n",
            "  Downloading nvidia_cuda_cupti_cu12-12.4.127-py3-none-manylinux2014_x86_64.whl.metadata (1.6 kB)\n",
            "Collecting nvidia-cudnn-cu12==9.1.0.70 (from torch)\n",
            "  Downloading nvidia_cudnn_cu12-9.1.0.70-py3-none-manylinux2014_x86_64.whl.metadata (1.6 kB)\n",
            "Collecting nvidia-cublas-cu12==12.4.5.8 (from torch)\n",
            "  Downloading nvidia_cublas_cu12-12.4.5.8-py3-none-manylinux2014_x86_64.whl.metadata (1.5 kB)\n",
            "Collecting nvidia-cufft-cu12==11.2.1.3 (from torch)\n",
            "  Downloading nvidia_cufft_cu12-11.2.1.3-py3-none-manylinux2014_x86_64.whl.metadata (1.5 kB)\n",
            "Collecting nvidia-curand-cu12==10.3.5.147 (from torch)\n",
            "  Downloading nvidia_curand_cu12-10.3.5.147-py3-none-manylinux2014_x86_64.whl.metadata (1.5 kB)\n",
            "Collecting nvidia-cusolver-cu12==11.6.1.9 (from torch)\n",
            "  Downloading nvidia_cusolver_cu12-11.6.1.9-py3-none-manylinux2014_x86_64.whl.metadata (1.6 kB)\n",
            "Collecting nvidia-cusparse-cu12==12.3.1.170 (from torch)\n",
            "  Downloading nvidia_cusparse_cu12-12.3.1.170-py3-none-manylinux2014_x86_64.whl.metadata (1.6 kB)\n",
            "Requirement already satisfied: nvidia-cusparselt-cu12==0.6.2 in /usr/local/lib/python3.11/dist-packages (from torch) (0.6.2)\n",
            "Requirement already satisfied: nvidia-nccl-cu12==2.21.5 in /usr/local/lib/python3.11/dist-packages (from torch) (2.21.5)\n",
            "Requirement already satisfied: nvidia-nvtx-cu12==12.4.127 in /usr/local/lib/python3.11/dist-packages (from torch) (12.4.127)\n",
            "Collecting nvidia-nvjitlink-cu12==12.4.127 (from torch)\n",
            "  Downloading nvidia_nvjitlink_cu12-12.4.127-py3-none-manylinux2014_x86_64.whl.metadata (1.5 kB)\n",
            "Requirement already satisfied: triton==3.2.0 in /usr/local/lib/python3.11/dist-packages (from torch) (3.2.0)\n",
            "Requirement already satisfied: sympy==1.13.1 in /usr/local/lib/python3.11/dist-packages (from torch) (1.13.1)\n",
            "Requirement already satisfied: mpmath<1.4,>=1.1.0 in /usr/local/lib/python3.11/dist-packages (from sympy==1.13.1->torch) (1.3.0)\n",
            "Requirement already satisfied: aiohttp in /usr/local/lib/python3.11/dist-packages (from torch_geometric) (3.11.15)\n",
            "Requirement already satisfied: numpy in /usr/local/lib/python3.11/dist-packages (from torch_geometric) (2.0.2)\n",
            "Requirement already satisfied: psutil>=5.8.0 in /usr/local/lib/python3.11/dist-packages (from torch_geometric) (5.9.5)\n",
            "Requirement already satisfied: pyparsing in /usr/local/lib/python3.11/dist-packages (from torch_geometric) (3.2.3)\n",
            "Requirement already satisfied: requests in /usr/local/lib/python3.11/dist-packages (from torch_geometric) (2.32.3)\n",
            "Requirement already satisfied: tqdm in /usr/local/lib/python3.11/dist-packages (from torch_geometric) (4.67.1)\n",
            "Requirement already satisfied: aiohappyeyeballs>=2.3.0 in /usr/local/lib/python3.11/dist-packages (from aiohttp->torch_geometric) (2.6.1)\n",
            "Requirement already satisfied: aiosignal>=1.1.2 in /usr/local/lib/python3.11/dist-packages (from aiohttp->torch_geometric) (1.3.2)\n",
            "Requirement already satisfied: attrs>=17.3.0 in /usr/local/lib/python3.11/dist-packages (from aiohttp->torch_geometric) (25.3.0)\n",
            "Requirement already satisfied: frozenlist>=1.1.1 in /usr/local/lib/python3.11/dist-packages (from aiohttp->torch_geometric) (1.7.0)\n",
            "Requirement already satisfied: multidict<7.0,>=4.5 in /usr/local/lib/python3.11/dist-packages (from aiohttp->torch_geometric) (6.4.4)\n",
            "Requirement already satisfied: propcache>=0.2.0 in /usr/local/lib/python3.11/dist-packages (from aiohttp->torch_geometric) (0.3.2)\n",
            "Requirement already satisfied: yarl<2.0,>=1.17.0 in /usr/local/lib/python3.11/dist-packages (from aiohttp->torch_geometric) (1.20.1)\n",
            "Requirement already satisfied: MarkupSafe>=2.0 in /usr/local/lib/python3.11/dist-packages (from jinja2->torch) (3.0.2)\n",
            "Requirement already satisfied: charset-normalizer<4,>=2 in /usr/local/lib/python3.11/dist-packages (from requests->torch_geometric) (3.4.2)\n",
            "Requirement already satisfied: idna<4,>=2.5 in /usr/local/lib/python3.11/dist-packages (from requests->torch_geometric) (3.10)\n",
            "Requirement already satisfied: urllib3<3,>=1.21.1 in /usr/local/lib/python3.11/dist-packages (from requests->torch_geometric) (2.4.0)\n",
            "Requirement already satisfied: certifi>=2017.4.17 in /usr/local/lib/python3.11/dist-packages (from requests->torch_geometric) (2025.6.15)\n",
            "Downloading nvidia_cublas_cu12-12.4.5.8-py3-none-manylinux2014_x86_64.whl (363.4 MB)\n",
            "\u001b[2K   \u001b[90m━━━━━━━━━━━━━━━━━━━━━━━━━━━━━━━━━━━━━━━━\u001b[0m \u001b[32m363.4/363.4 MB\u001b[0m \u001b[31m4.8 MB/s\u001b[0m eta \u001b[36m0:00:00\u001b[0m\n",
            "\u001b[?25hDownloading nvidia_cuda_cupti_cu12-12.4.127-py3-none-manylinux2014_x86_64.whl (13.8 MB)\n",
            "\u001b[2K   \u001b[90m━━━━━━━━━━━━━━━━━━━━━━━━━━━━━━━━━━━━━━━━\u001b[0m \u001b[32m13.8/13.8 MB\u001b[0m \u001b[31m100.3 MB/s\u001b[0m eta \u001b[36m0:00:00\u001b[0m\n",
            "\u001b[?25hDownloading nvidia_cuda_nvrtc_cu12-12.4.127-py3-none-manylinux2014_x86_64.whl (24.6 MB)\n",
            "\u001b[2K   \u001b[90m━━━━━━━━━━━━━━━━━━━━━━━━━━━━━━━━━━━━━━━━\u001b[0m \u001b[32m24.6/24.6 MB\u001b[0m \u001b[31m74.9 MB/s\u001b[0m eta \u001b[36m0:00:00\u001b[0m\n",
            "\u001b[?25hDownloading nvidia_cuda_runtime_cu12-12.4.127-py3-none-manylinux2014_x86_64.whl (883 kB)\n",
            "\u001b[2K   \u001b[90m━━━━━━━━━━━━━━━━━━━━━━━━━━━━━━━━━━━━━━━━\u001b[0m \u001b[32m883.7/883.7 kB\u001b[0m \u001b[31m43.1 MB/s\u001b[0m eta \u001b[36m0:00:00\u001b[0m\n",
            "\u001b[?25hDownloading nvidia_cudnn_cu12-9.1.0.70-py3-none-manylinux2014_x86_64.whl (664.8 MB)\n",
            "\u001b[2K   \u001b[90m━━━━━━━━━━━━━━━━━━━━━━━━━━━━━━━━━━━━━━━━\u001b[0m \u001b[32m664.8/664.8 MB\u001b[0m \u001b[31m2.2 MB/s\u001b[0m eta \u001b[36m0:00:00\u001b[0m\n",
            "\u001b[?25hDownloading nvidia_cufft_cu12-11.2.1.3-py3-none-manylinux2014_x86_64.whl (211.5 MB)\n",
            "\u001b[2K   \u001b[90m━━━━━━━━━━━━━━━━━━━━━━━━━━━━━━━━━━━━━━━━\u001b[0m \u001b[32m211.5/211.5 MB\u001b[0m \u001b[31m5.5 MB/s\u001b[0m eta \u001b[36m0:00:00\u001b[0m\n",
            "\u001b[?25hDownloading nvidia_curand_cu12-10.3.5.147-py3-none-manylinux2014_x86_64.whl (56.3 MB)\n",
            "\u001b[2K   \u001b[90m━━━━━━━━━━━━━━━━━━━━━━━━━━━━━━━━━━━━━━━━\u001b[0m \u001b[32m56.3/56.3 MB\u001b[0m \u001b[31m13.1 MB/s\u001b[0m eta \u001b[36m0:00:00\u001b[0m\n",
            "\u001b[?25hDownloading nvidia_cusolver_cu12-11.6.1.9-py3-none-manylinux2014_x86_64.whl (127.9 MB)\n",
            "\u001b[2K   \u001b[90m━━━━━━━━━━━━━━━━━━━━━━━━━━━━━━━━━━━━━━━━\u001b[0m \u001b[32m127.9/127.9 MB\u001b[0m \u001b[31m7.4 MB/s\u001b[0m eta \u001b[36m0:00:00\u001b[0m\n",
            "\u001b[?25hDownloading nvidia_cusparse_cu12-12.3.1.170-py3-none-manylinux2014_x86_64.whl (207.5 MB)\n",
            "\u001b[2K   \u001b[90m━━━━━━━━━━━━━━━━━━━━━━━━━━━━━━━━━━━━━━━━\u001b[0m \u001b[32m207.5/207.5 MB\u001b[0m \u001b[31m6.1 MB/s\u001b[0m eta \u001b[36m0:00:00\u001b[0m\n",
            "\u001b[?25hDownloading nvidia_nvjitlink_cu12-12.4.127-py3-none-manylinux2014_x86_64.whl (21.1 MB)\n",
            "\u001b[2K   \u001b[90m━━━━━━━━━━━━━━━━━━━━━━━━━━━━━━━━━━━━━━━━\u001b[0m \u001b[32m21.1/21.1 MB\u001b[0m \u001b[31m39.8 MB/s\u001b[0m eta \u001b[36m0:00:00\u001b[0m\n",
            "\u001b[?25hDownloading torch_geometric-2.6.1-py3-none-any.whl (1.1 MB)\n",
            "\u001b[2K   \u001b[90m━━━━━━━━━━━━━━━━━━━━━━━━━━━━━━━━━━━━━━━━\u001b[0m \u001b[32m1.1/1.1 MB\u001b[0m \u001b[31m48.4 MB/s\u001b[0m eta \u001b[36m0:00:00\u001b[0m\n",
            "\u001b[?25hInstalling collected packages: nvidia-nvjitlink-cu12, nvidia-curand-cu12, nvidia-cufft-cu12, nvidia-cuda-runtime-cu12, nvidia-cuda-nvrtc-cu12, nvidia-cuda-cupti-cu12, nvidia-cublas-cu12, nvidia-cusparse-cu12, nvidia-cudnn-cu12, torch_geometric, nvidia-cusolver-cu12\n",
            "  Attempting uninstall: nvidia-nvjitlink-cu12\n",
            "    Found existing installation: nvidia-nvjitlink-cu12 12.5.82\n",
            "    Uninstalling nvidia-nvjitlink-cu12-12.5.82:\n",
            "      Successfully uninstalled nvidia-nvjitlink-cu12-12.5.82\n",
            "  Attempting uninstall: nvidia-curand-cu12\n",
            "    Found existing installation: nvidia-curand-cu12 10.3.6.82\n",
            "    Uninstalling nvidia-curand-cu12-10.3.6.82:\n",
            "      Successfully uninstalled nvidia-curand-cu12-10.3.6.82\n",
            "  Attempting uninstall: nvidia-cufft-cu12\n",
            "    Found existing installation: nvidia-cufft-cu12 11.2.3.61\n",
            "    Uninstalling nvidia-cufft-cu12-11.2.3.61:\n",
            "      Successfully uninstalled nvidia-cufft-cu12-11.2.3.61\n",
            "  Attempting uninstall: nvidia-cuda-runtime-cu12\n",
            "    Found existing installation: nvidia-cuda-runtime-cu12 12.5.82\n",
            "    Uninstalling nvidia-cuda-runtime-cu12-12.5.82:\n",
            "      Successfully uninstalled nvidia-cuda-runtime-cu12-12.5.82\n",
            "  Attempting uninstall: nvidia-cuda-nvrtc-cu12\n",
            "    Found existing installation: nvidia-cuda-nvrtc-cu12 12.5.82\n",
            "    Uninstalling nvidia-cuda-nvrtc-cu12-12.5.82:\n",
            "      Successfully uninstalled nvidia-cuda-nvrtc-cu12-12.5.82\n",
            "  Attempting uninstall: nvidia-cuda-cupti-cu12\n",
            "    Found existing installation: nvidia-cuda-cupti-cu12 12.5.82\n",
            "    Uninstalling nvidia-cuda-cupti-cu12-12.5.82:\n",
            "      Successfully uninstalled nvidia-cuda-cupti-cu12-12.5.82\n",
            "  Attempting uninstall: nvidia-cublas-cu12\n",
            "    Found existing installation: nvidia-cublas-cu12 12.5.3.2\n",
            "    Uninstalling nvidia-cublas-cu12-12.5.3.2:\n",
            "      Successfully uninstalled nvidia-cublas-cu12-12.5.3.2\n",
            "  Attempting uninstall: nvidia-cusparse-cu12\n",
            "    Found existing installation: nvidia-cusparse-cu12 12.5.1.3\n",
            "    Uninstalling nvidia-cusparse-cu12-12.5.1.3:\n",
            "      Successfully uninstalled nvidia-cusparse-cu12-12.5.1.3\n",
            "  Attempting uninstall: nvidia-cudnn-cu12\n",
            "    Found existing installation: nvidia-cudnn-cu12 9.3.0.75\n",
            "    Uninstalling nvidia-cudnn-cu12-9.3.0.75:\n",
            "      Successfully uninstalled nvidia-cudnn-cu12-9.3.0.75\n",
            "  Attempting uninstall: nvidia-cusolver-cu12\n",
            "    Found existing installation: nvidia-cusolver-cu12 11.6.3.83\n",
            "    Uninstalling nvidia-cusolver-cu12-11.6.3.83:\n",
            "      Successfully uninstalled nvidia-cusolver-cu12-11.6.3.83\n",
            "Successfully installed nvidia-cublas-cu12-12.4.5.8 nvidia-cuda-cupti-cu12-12.4.127 nvidia-cuda-nvrtc-cu12-12.4.127 nvidia-cuda-runtime-cu12-12.4.127 nvidia-cudnn-cu12-9.1.0.70 nvidia-cufft-cu12-11.2.1.3 nvidia-curand-cu12-10.3.5.147 nvidia-cusolver-cu12-11.6.1.9 nvidia-cusparse-cu12-12.3.1.170 nvidia-nvjitlink-cu12-12.4.127 torch_geometric-2.6.1\n"
          ]
        }
      ],
      "source": [
        "!pip install torch torch_geometric"
      ]
    },
    {
      "cell_type": "code",
      "source": [
        "import torch\n",
        "import torch.nn.functional as F\n",
        "from torch_geometric.datasets import Planetoid\n",
        "from torch_geometric.nn import GCNConv\n",
        "import numpy as np\n",
        "import random"
      ],
      "metadata": {
        "id": "Wv0vXk2DLx3I"
      },
      "execution_count": 3,
      "outputs": []
    },
    {
      "cell_type": "code",
      "source": [
        "# Set random seed\n",
        "seed = 42\n",
        "torch.manual_seed(seed)\n",
        "np.random.seed(seed)\n",
        "random.seed(seed)\n",
        "\n",
        "device = torch.device('cuda' if torch.cuda.is_available() else 'cpu')\n",
        "\n",
        "# Load Cora dataset\n",
        "dataset = Planetoid(root='/tmp/Cora', name='Cora')\n",
        "data = dataset[0].to(device)\n"
      ],
      "metadata": {
        "colab": {
          "base_uri": "https://localhost:8080/"
        },
        "id": "KCVEGiS7L_Tq",
        "outputId": "7a25d0a3-f4da-4571-c335-0d8449f07b57"
      },
      "execution_count": 4,
      "outputs": [
        {
          "output_type": "stream",
          "name": "stderr",
          "text": [
            "Downloading https://github.com/kimiyoung/planetoid/raw/master/data/ind.cora.x\n",
            "Downloading https://github.com/kimiyoung/planetoid/raw/master/data/ind.cora.tx\n",
            "Downloading https://github.com/kimiyoung/planetoid/raw/master/data/ind.cora.allx\n",
            "Downloading https://github.com/kimiyoung/planetoid/raw/master/data/ind.cora.y\n",
            "Downloading https://github.com/kimiyoung/planetoid/raw/master/data/ind.cora.ty\n",
            "Downloading https://github.com/kimiyoung/planetoid/raw/master/data/ind.cora.ally\n",
            "Downloading https://github.com/kimiyoung/planetoid/raw/master/data/ind.cora.graph\n",
            "Downloading https://github.com/kimiyoung/planetoid/raw/master/data/ind.cora.test.index\n",
            "Processing...\n",
            "Done!\n"
          ]
        }
      ]
    },
    {
      "cell_type": "code",
      "source": [
        "# GCN model class\n",
        "class GCN(torch.nn.Module):\n",
        "    def __init__(self):\n",
        "        super(GCN, self).__init__()\n",
        "        self.conv1 = GCNConv(dataset.num_node_features, 16)\n",
        "        self.conv2 = GCNConv(16, dataset.num_classes)\n",
        "\n",
        "    def forward(self, data):\n",
        "        x, edge_index = data.x, data.edge_index\n",
        "        x = F.relu(self.conv1(x, edge_index))\n",
        "        x = self.conv2(x, edge_index)\n",
        "        return x\n"
      ],
      "metadata": {
        "id": "GgJOEeiAm3SK"
      },
      "execution_count": 5,
      "outputs": []
    },
    {
      "cell_type": "code",
      "source": [
        "# Train function\n",
        "def train(model, data, optimizer):\n",
        "    model.train()\n",
        "    optimizer.zero_grad()\n",
        "    out = model(data)\n",
        "    loss = F.cross_entropy(out[data.train_mask], data.y[data.train_mask])\n",
        "    loss.backward()\n",
        "    optimizer.step()\n",
        "\n",
        "# Test function\n",
        "def test(model, data):\n",
        "    model.eval()\n",
        "    logits = model(data)\n",
        "    loss = F.cross_entropy(logits[data.test_mask], data.y[data.test_mask]).item()\n",
        "    pred = logits[data.test_mask].max(1)[1]\n",
        "    acc = pred.eq(data.y[data.test_mask]).sum().item() / data.test_mask.sum().item()\n",
        "    return acc, loss"
      ],
      "metadata": {
        "id": "56rra4eam5eB"
      },
      "execution_count": 6,
      "outputs": []
    },
    {
      "cell_type": "code",
      "source": [
        "# Projection function\n",
        "def projection(b, eps):\n",
        "    b = torch.clamp(b, 0, 1)\n",
        "    if b.sum() > eps:\n",
        "        b = b * (eps / b.sum())\n",
        "    return b"
      ],
      "metadata": {
        "id": "SOz5pJ1gMBxY"
      },
      "execution_count": 7,
      "outputs": []
    },
    {
      "cell_type": "code",
      "source": [
        "# Algorithm 1 adversarial training\n",
        "def adversarial_train(model, data, T1=10, T2=5, K=5, eta=5e-2, gamma=1e-2, eps=20.0):\n",
        "    num_edges = data.edge_index.shape[1]\n",
        "    b = torch.ones(num_edges, requires_grad=True, device=device) * 0.5\n",
        "    optimizer = torch.optim.Adam(model.parameters(), lr=0.01, weight_decay=5e-4)\n",
        "\n",
        "    for t1 in range(T1):\n",
        "        b = b.detach().clone().requires_grad_(True)\n",
        "\n",
        "        # Inner loop: update b\n",
        "        for t2 in range(T2):\n",
        "            edge_mask = torch.bernoulli(b).bool()  # sample perturbation\n",
        "            perturbed_edge_index = data.edge_index[:, edge_mask]\n",
        "\n",
        "            temp_data = data.clone()\n",
        "            temp_data.edge_index = perturbed_edge_index\n",
        "\n",
        "            out = model(temp_data)\n",
        "            loss = F.cross_entropy(out[temp_data.train_mask], temp_data.y[temp_data.train_mask])\n",
        "\n",
        "            grad_b = torch.autograd.grad(loss, b, retain_graph=True, allow_unused=True)[0]\n",
        "            if grad_b is None:\n",
        "                grad_b = torch.zeros_like(b)\n",
        "\n",
        "            b = b + eta * grad_b\n",
        "            b = projection(b, eps)\n",
        "\n",
        "        # Sample K binary perturbations\n",
        "        u_samples = []\n",
        "        for k in range(K):\n",
        "            u_k = torch.bernoulli(b).detach()\n",
        "            u_samples.append(u_k)\n",
        "\n",
        "        # Find b* that maximizes loss\n",
        "        max_loss = -float('inf')\n",
        "        b_star = None\n",
        "        for u in u_samples:\n",
        "            edge_mask = u.bool()\n",
        "            perturbed_edge_index = data.edge_index[:, edge_mask]\n",
        "\n",
        "            temp_data = data.clone()\n",
        "            temp_data.edge_index = perturbed_edge_index\n",
        "\n",
        "            out = model(temp_data)\n",
        "            loss = F.cross_entropy(out[temp_data.train_mask], temp_data.y[temp_data.train_mask])\n",
        "\n",
        "            if loss.item() > max_loss:\n",
        "                max_loss = loss.item()\n",
        "                b_star = u\n",
        "\n",
        "        # Outer loop: update model parameters W\n",
        "        optimizer.zero_grad()\n",
        "        perturbed_edge_index = data.edge_index[:, b_star.bool()]\n",
        "\n",
        "        temp_data = data.clone()\n",
        "        temp_data.edge_index = perturbed_edge_index\n",
        "\n",
        "        out = model(temp_data)\n",
        "        loss = F.cross_entropy(out[temp_data.train_mask], temp_data.y[temp_data.train_mask])\n",
        "        loss.backward()\n",
        "        optimizer.step()\n",
        "\n",
        "        print(f'Iter {t1+1}/{T1}, Loss: {loss.item():.4f}, b.sum(): {b.sum().item():.2f}')\n",
        "\n",
        "    return model\n"
      ],
      "metadata": {
        "id": "c-JdE5EMMDyz"
      },
      "execution_count": 12,
      "outputs": []
    },
    {
      "cell_type": "code",
      "source": [
        "# Functions to flip edge & feature\n",
        "def flip_edge(edge_index, u, v):\n",
        "    mask = ~(((edge_index[0] == u) & (edge_index[1] == v)) |\n",
        "             ((edge_index[0] == v) & (edge_index[1] == u)))\n",
        "    if mask.sum() == edge_index.size(1):\n",
        "        new_edges = torch.cat([edge_index, torch.tensor([[u, v], [v, u]], dtype=torch.long, device=edge_index.device)], dim=1)\n",
        "    else:\n",
        "        new_edges = edge_index[:, mask]\n",
        "    return new_edges\n",
        "\n",
        "def flip_feature(features, u, idx):\n",
        "    features[u, idx] = 1 - features[u, idx]\n",
        "    return features"
      ],
      "metadata": {
        "id": "YPc5b6_HOANa"
      },
      "execution_count": 9,
      "outputs": []
    },
    {
      "cell_type": "code",
      "source": [
        "# GCN Baseline\n",
        "model_gcn = GCN().to(device)\n",
        "optimizer = torch.optim.Adam(model_gcn.parameters(), lr=0.01, weight_decay=5e-4)\n",
        "\n",
        "print(\"\\n=== Training GCN ===\")\n",
        "for epoch in range(200):\n",
        "    train(model_gcn, data, optimizer)\n",
        "\n",
        "acc_before_gcn, loss_before_gcn = test(model_gcn, data)\n",
        "print(f\"Accuracy BEFORE attack: {acc_before_gcn:.4f}, Loss: {loss_before_gcn:.4f}\")\n"
      ],
      "metadata": {
        "colab": {
          "base_uri": "https://localhost:8080/"
        },
        "id": "29xjSZmqOG39",
        "outputId": "bb762c4e-d711-4569-a634-950c6d775153"
      },
      "execution_count": 13,
      "outputs": [
        {
          "output_type": "stream",
          "name": "stdout",
          "text": [
            "\n",
            "=== Training GCN ===\n",
            "Accuracy BEFORE attack: 0.8120, Loss: 0.6189\n"
          ]
        }
      ]
    },
    {
      "cell_type": "code",
      "source": [
        "# Adversarial Training\n",
        "model_adv = GCN().to(device)\n",
        "print(\"\\n=== Adversarial Training (Algorithm 1) ===\")\n",
        "model_adv = adversarial_train(model_adv, data)\n",
        "acc_before_adv, loss_before_adv = test(model_adv, data)\n",
        "print(f\"Accuracy BEFORE attack: {acc_before_adv:.4f}, Loss: {loss_before_adv:.4f}\")\n"
      ],
      "metadata": {
        "id": "bHZI0nmvOIAY",
        "colab": {
          "base_uri": "https://localhost:8080/"
        },
        "outputId": "ff1b4da7-025f-45a5-9063-b36be5890bcf"
      },
      "execution_count": 14,
      "outputs": [
        {
          "output_type": "stream",
          "name": "stdout",
          "text": [
            "\n",
            "=== Adversarial Training (Algorithm 1) ===\n",
            "Iter 1/10, Loss: 1.9449, b.sum(): 20.00\n",
            "Iter 2/10, Loss: 1.7708, b.sum(): 20.00\n",
            "Iter 3/10, Loss: 1.6154, b.sum(): 20.00\n",
            "Iter 4/10, Loss: 1.4379, b.sum(): 20.00\n",
            "Iter 5/10, Loss: 1.2448, b.sum(): 20.00\n",
            "Iter 6/10, Loss: 1.0471, b.sum(): 20.00\n",
            "Iter 7/10, Loss: 0.8732, b.sum(): 20.00\n",
            "Iter 8/10, Loss: 0.7183, b.sum(): 20.00\n",
            "Iter 9/10, Loss: 0.5822, b.sum(): 20.00\n",
            "Iter 10/10, Loss: 0.4690, b.sum(): 20.00\n",
            "Accuracy BEFORE attack: 0.6760, Loss: 1.4168\n"
          ]
        }
      ]
    },
    {
      "cell_type": "code",
      "source": [
        "# Prepare target nodes\n",
        "model_gcn.eval()\n",
        "logits = model_gcn(data)\n",
        "conf = F.softmax(logits[data.test_mask], dim=1)\n",
        "conf_max, pred = conf.max(dim=1)\n",
        "true = data.y[data.test_mask]\n",
        "correct_mask = (pred == true)\n",
        "\n",
        "# Chọn top 200 node dễ attack\n",
        "num_target_nodes = 200\n",
        "sorted_idx = conf_max[correct_mask].argsort()\n",
        "target_candidates = data.test_mask.nonzero(as_tuple=False).view(-1)[correct_mask]\n",
        "target_nodes = target_candidates[sorted_idx[:num_target_nodes]]\n",
        "\n",
        "# Parameters for attack\n",
        "budget = 15\n",
        "num_edge_candidates = 20\n",
        "num_feature_candidates = 20\n",
        "\n",
        "# Attack Function (reuse for GCN & ADV)\n",
        "def run_attack(model, data, target_nodes):\n",
        "    successful_attacks = 0\n",
        "    modified_links = 0\n",
        "    correct_after_target = []\n",
        "\n",
        "    x_adv_global = data.x.clone()\n",
        "    edge_adv_global = data.edge_index.clone()\n",
        "\n",
        "    for node in target_nodes:\n",
        "        node = node.item()\n",
        "        x_adv = x_adv_global.clone()\n",
        "        edge_adv = edge_adv_global.clone()\n",
        "\n",
        "        logits = model(data)\n",
        "        pred = logits[node].argmax().item()\n",
        "        true_label = data.y[node].item()\n",
        "\n",
        "        if pred != true_label:\n",
        "            continue\n",
        "\n",
        "        for _ in range(budget):\n",
        "            best_score = -np.inf\n",
        "            best_action = None\n",
        "\n",
        "            possible_neighbors = random.sample(range(data.num_nodes), min(num_edge_candidates, data.num_nodes))\n",
        "            possible_features = random.sample(range(data.num_node_features), min(num_feature_candidates, data.num_node_features))\n",
        "\n",
        "            for neighbor in possible_neighbors:\n",
        "                if neighbor == node:\n",
        "                    continue\n",
        "                temp_edge = flip_edge(edge_adv, node, neighbor)\n",
        "                temp_data = data.clone()\n",
        "                temp_data.edge_index = temp_edge\n",
        "                temp_data.x = x_adv\n",
        "                temp_logits = model(temp_data)\n",
        "                score = F.cross_entropy(temp_logits[[node]], data.y[[node]]).item()\n",
        "                if score > best_score:\n",
        "                    best_score = score\n",
        "                    best_action = ('edge', neighbor)\n",
        "\n",
        "            for idx in possible_features:\n",
        "                temp_x = x_adv.clone()\n",
        "                temp_x = flip_feature(temp_x, node, idx)\n",
        "                temp_data = data.clone()\n",
        "                temp_data.edge_index = edge_adv\n",
        "                temp_data.x = temp_x\n",
        "                temp_logits = model(temp_data)\n",
        "                score = F.cross_entropy(temp_logits[[node]], data.y[[node]]).item()\n",
        "                if score > best_score:\n",
        "                    best_score = score\n",
        "                    best_action = ('feature', idx)\n",
        "\n",
        "            if best_action[0] == 'edge':\n",
        "                neighbor = best_action[1]\n",
        "                edge_adv = flip_edge(edge_adv, node, neighbor)\n",
        "                modified_links += 1\n",
        "            else:\n",
        "                idx = best_action[1]\n",
        "                x_adv = flip_feature(x_adv, node, idx)\n",
        "\n",
        "            temp_data = data.clone()\n",
        "            temp_data.edge_index = edge_adv\n",
        "            temp_data.x = x_adv\n",
        "            temp_logits = model(temp_data)\n",
        "            pred_after = temp_logits[node].argmax().item()\n",
        "\n",
        "            if pred_after != true_label:\n",
        "                successful_attacks += 1\n",
        "                correct_after_target.append(0)\n",
        "                edge_adv_global = edge_adv\n",
        "                x_adv_global = x_adv\n",
        "                break\n",
        "        else:\n",
        "            correct_after_target.append(1)\n",
        "            edge_adv_global = edge_adv\n",
        "            x_adv_global = x_adv\n",
        "\n",
        "    data.edge_index = edge_adv_global\n",
        "    data.x = x_adv_global\n",
        "    acc_after, loss_after = test(model, data)\n",
        "    ASR = (successful_attacks / len(target_nodes)) * 100\n",
        "    AML = modified_links / len(target_nodes)\n",
        "    acc_target_after = 1 - np.mean(correct_after_target)\n",
        "\n",
        "    return acc_after, loss_after, ASR, AML, acc_target_after"
      ],
      "metadata": {
        "id": "M5yywq4-OJzd"
      },
      "execution_count": 15,
      "outputs": []
    },
    {
      "cell_type": "code",
      "source": [
        "# Run attack for GCN\n",
        "acc_after_gcn, loss_after_gcn, ASR_gcn, AML_gcn, acc_target_gcn = run_attack(model_gcn, data, target_nodes)\n",
        "\n",
        "# Run attack for GCN + ADV\n",
        "acc_after_adv, loss_after_adv, ASR_adv, AML_adv, acc_target_adv = run_attack(model_adv, data, target_nodes)\n",
        "\n",
        "# Summary\n",
        "print(\"GCN\")\n",
        "print(f\"Accuracy BEFORE Attack: {acc_before_gcn:.4f}\")\n",
        "print(f\"Accuracy AFTER  Attack: {acc_after_gcn:.4f}\")\n",
        "print(f\"ASR: {ASR_gcn:.2f}%, AML: {AML_gcn:.4f}\")\n",
        "\n",
        "print(\"Adversarial Training\")\n",
        "print(f\"Accuracy BEFORE Attack: {acc_before_adv:.4f}\")\n",
        "print(f\"Accuracy AFTER  Attack: {acc_after_adv:.4f}\")\n",
        "print(f\"ASR: {ASR_adv:.2f}%, AML: {AML_adv:.4f}\")\n"
      ],
      "metadata": {
        "id": "FwXp1I3HLtzR",
        "colab": {
          "base_uri": "https://localhost:8080/"
        },
        "outputId": "7b094938-607e-47a3-92fc-503a0223b5d8"
      },
      "execution_count": 16,
      "outputs": [
        {
          "output_type": "stream",
          "name": "stdout",
          "text": [
            "\n",
            "=== GCN under NETTACK ===\n",
            "\n",
            "=== GCN + Algorithm 1 under NETTACK ===\n",
            "\n",
            "=======================================\n",
            "======= GCN =======\n",
            "Accuracy BEFORE Attack: 0.8120\n",
            "Accuracy AFTER  Attack: 0.6210\n",
            "ASR: 100.00%, AML: 1.1900\n",
            "======= GCN + Algorithm 1 =======\n",
            "Accuracy BEFORE Attack: 0.6760\n",
            "Accuracy AFTER  Attack: 0.5730\n",
            "ASR: 26.50%, AML: 0.6700\n"
          ]
        }
      ]
    }
  ]
}